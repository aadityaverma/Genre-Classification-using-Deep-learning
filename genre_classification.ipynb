{
 "cells": [
  {
   "cell_type": "markdown",
   "metadata": {
    "id": "jDAys5NJ9vU7"
   },
   "source": [
    "## Wavelet data generation.."
   ]
  },
  {
   "cell_type": "code",
   "execution_count": 1,
   "metadata": {
    "id": "7hU730GYrfDj"
   },
   "outputs": [],
   "source": [
    "def func(cls):\n",
    "  img_names = os.listdir('genres/'+cls)\n",
    "  os.makedirs('wavelets/train/'+cls)\n",
    "  os.makedirs('wavelets/test/'+cls)\n",
    "  print(cls)\n",
    "  train_names = img_names[:60]\n",
    "  test_names = img_names[60:]\n",
    "  cnt = 0\n",
    "  for nm in train_names:\n",
    "    cnt+=1\n",
    "    x , sr = librosa.load('genres/'+cls+'/'+nm)\n",
    "    #plt.figure(figsize=(14, 5))\n",
    "    librosa.display.waveplot(x)\n",
    "    plt.savefig('wavelets/train/'+cls+'/'+str(cnt)+'.png')\n",
    "    plt.close()\n",
    "  \n",
    "  cnt = 0\n",
    "  for nm in test_names:\n",
    "    cnt+=1\n",
    "    x , sr = librosa.load('genres/'+cls+'/'+nm)\n",
    "    #plt.figure(figsize=(14, 5))\n",
    "    librosa.display.waveplot(x)\n",
    "    plt.savefig('wavelets/test/'+cls+'/'+str(cnt)+'.png')\n",
    "    plt.close()"
   ]
  },
  {
   "cell_type": "code",
   "execution_count": 2,
   "metadata": {
    "colab": {
     "base_uri": "https://localhost:8080/"
    },
    "id": "G7aFO6Q4KOXi",
    "outputId": "ea634229-3cad-40b1-e6d7-ec97b12ac901",
    "scrolled": true
   },
   "outputs": [
    {
     "name": "stdout",
     "output_type": "stream",
     "text": [
      "['blues', 'classical', 'country', 'disco', 'hiphop', 'jazz', 'metal', 'pop', 'reggae', 'rock']\n"
     ]
    }
   ],
   "source": [
    "import os\n",
    "classes = [a for a in os.listdir('genres') if '.' not in a]\n",
    "print(classes)"
   ]
  },
  {
   "cell_type": "markdown",
   "metadata": {
    "id": "xKQS6NweDHi6"
   },
   "source": [
    "## Spectrogram generation.."
   ]
  },
  {
   "cell_type": "code",
   "execution_count": 3,
   "metadata": {
    "id": "lnwuA7h19z48"
   },
   "outputs": [],
   "source": [
    "import librosa\n",
    "import matplotlib.pyplot as plt\n",
    "import librosa.display\n",
    "\n",
    "\n",
    "def func1(cls):\n",
    "  img_names = os.listdir('genres/'+cls)\n",
    "  os.makedirs('spectrogram/train/'+cls)\n",
    "  os.makedirs('spectrogram/test/'+cls)\n",
    "  print(cls)\n",
    "  train_names = img_names[:60]\n",
    "  test_names = img_names[60:]\n",
    "  cnt = 0\n",
    "  for nm in train_names:\n",
    "    cnt+=1\n",
    "    x , sr = librosa.load('genres/'+cls+'/'+nm)\n",
    "    X = librosa.stft(x)\n",
    "    Xdb = librosa.amplitude_to_db(abs(X))\n",
    "    librosa.display.specshow(Xdb)\n",
    "    plt.savefig('spectrogram/train/'+cls+'/'+str(cnt)+'.png')\n",
    "    plt.close()\n",
    "  \n",
    "  cnt = 0\n",
    "  for nm in test_names:\n",
    "    cnt+=1\n",
    "    x , sr = librosa.load('genres/'+cls+'/'+nm)\n",
    "    X = librosa.stft(x)\n",
    "    Xdb = librosa.amplitude_to_db(abs(X))\n",
    "    librosa.display.specshow(Xdb)\n",
    "    plt.savefig('spectrogram/test/'+cls+'/'+str(cnt)+'.png')\n",
    "    plt.close()"
   ]
  },
  {
   "cell_type": "code",
   "execution_count": 4,
   "metadata": {
    "colab": {
     "base_uri": "https://localhost:8080/"
    },
    "id": "KrtBWlF4_YXb",
    "outputId": "c8732337-479b-4e71-fa07-4132d24cefdb"
   },
   "outputs": [
    {
     "name": "stdout",
     "output_type": "stream",
     "text": [
      "['blues', 'classical', 'country', 'disco', 'hiphop', 'jazz', 'metal', 'pop', 'reggae', 'rock']\n"
     ]
    }
   ],
   "source": [
    "import os\n",
    "classes = [a for a in os.listdir('genres') if '.' not in a]\n",
    "print(classes)"
   ]
  },
  {
   "cell_type": "markdown",
   "metadata": {
    "id": "EQy_bqnn9rmj"
   },
   "source": [
    "## Model training.."
   ]
  },
  {
   "cell_type": "code",
   "execution_count": 22,
   "metadata": {
    "id": "lgrqLPZcK0MX"
   },
   "outputs": [],
   "source": [
    "import matplotlib.pyplot as plt\n",
    "import seaborn as sns\n",
    "\n",
    "import keras\n",
    "from keras.models import Sequential\n",
    "from keras.layers import Dense, Conv2D , MaxPool2D , Flatten , Dropout \n",
    "from keras.preprocessing.image import ImageDataGenerator\n",
    "from tensorflow.keras.optimizers import Adam\n",
    "\n",
    "\n",
    "from sklearn.metrics import classification_report,confusion_matrix\n",
    "\n",
    "import tensorflow as tf\n",
    "\n",
    "import cv2\n",
    "import os\n",
    "\n",
    "import numpy as np"
   ]
  },
  {
   "cell_type": "code",
   "execution_count": 23,
   "metadata": {
    "id": "GjWqYansStBI"
   },
   "outputs": [],
   "source": [
    "labels = ['blues', 'classical', 'country', 'disco', 'hiphop', 'jazz', 'metal', 'pop', 'reggae', 'rock']\n",
    "img_size = 256\n",
    "def get_data(data_dir):\n",
    "    data = [] \n",
    "    for label in labels: \n",
    "        path = os.path.join(data_dir, label)\n",
    "        class_num = labels.index(label)\n",
    "        for img in os.listdir(path):\n",
    "            try:\n",
    "                img_arr = cv2.imread(os.path.join(path, img))[...,::-1] #convert BGR to RGB format\n",
    "                resized_arr = cv2.resize(img_arr, (img_size, img_size)) # Reshaping images to preferred size\n",
    "                data.append([resized_arr, class_num])\n",
    "            except Exception as e:\n",
    "                print(e)\n",
    "    return np.array(data)"
   ]
  },
  {
   "cell_type": "code",
   "execution_count": 24,
   "metadata": {
    "id": "jZev-1aYS5tp"
   },
   "outputs": [
    {
     "name": "stderr",
     "output_type": "stream",
     "text": [
      "C:\\ProgramData\\Anaconda3\\envs\\MAIBsem1\\lib\\site-packages\\ipykernel_launcher.py:15: VisibleDeprecationWarning: Creating an ndarray from ragged nested sequences (which is a list-or-tuple of lists-or-tuples-or ndarrays with different lengths or shapes) is deprecated. If you meant to do this, you must specify 'dtype=object' when creating the ndarray\n",
      "  from ipykernel import kernelapp as app\n"
     ]
    }
   ],
   "source": [
    "train = get_data('spectrogram/train')\n",
    "val = get_data('spectrogram/test')"
   ]
  },
  {
   "cell_type": "code",
   "execution_count": 25,
   "metadata": {
    "id": "aOMMXUMnTNAt"
   },
   "outputs": [],
   "source": [
    "x_train = []\n",
    "y_train = []\n",
    "x_val = []\n",
    "y_val = []\n",
    "\n",
    "for feature, label in train:\n",
    "  x_train.append(feature)\n",
    "  y_train.append(label)\n",
    "\n",
    "for feature, label in val:\n",
    "  x_val.append(feature)\n",
    "  y_val.append(label)\n",
    "\n",
    "# Normalize the data\n",
    "x_train = np.array(x_train) / 255\n",
    "x_val = np.array(x_val) / 255\n",
    "\n",
    "x_train.reshape(-1, img_size, img_size, 1)\n",
    "y_train = np.array(y_train)\n",
    "\n",
    "x_val.reshape(-1, img_size, img_size, 1)\n",
    "y_val = np.array(y_val)"
   ]
  },
  {
   "cell_type": "code",
   "execution_count": 26,
   "metadata": {
    "id": "5HMhdmkUTebr"
   },
   "outputs": [],
   "source": [
    "datagen = ImageDataGenerator(\n",
    "        featurewise_center=False,  # set input mean to 0 over the dataset\n",
    "        samplewise_center=False,  # set each sample mean to 0\n",
    "        featurewise_std_normalization=False,  # divide inputs by std of the dataset\n",
    "        samplewise_std_normalization=False,  # divide each input by its std\n",
    "        zca_whitening=False,  # apply ZCA whitening\n",
    "        #rotation_range = 30,  # randomly rotate images in the range (degrees, 0 to 180)\n",
    "        zoom_range = 0.2, # Randomly zoom image \n",
    "        width_shift_range=0.1,  # randomly shift images horizontally (fraction of total width)\n",
    "        height_shift_range=0.1,  # randomly shift images vertically (fraction of total height)\n",
    "        #horizontal_flip = True,  # randomly flip images\n",
    "        vertical_flip=False)  # randomly flip images\n",
    "\n",
    "\n",
    "datagen.fit(x_train)"
   ]
  },
  {
   "cell_type": "code",
   "execution_count": 27,
   "metadata": {
    "id": "frApKmq_Tnkk"
   },
   "outputs": [
    {
     "name": "stdout",
     "output_type": "stream",
     "text": [
      "Model: \"sequential_1\"\n",
      "_________________________________________________________________\n",
      "Layer (type)                 Output Shape              Param #   \n",
      "=================================================================\n",
      "conv2d_3 (Conv2D)            (None, 256, 256, 32)      896       \n",
      "_________________________________________________________________\n",
      "max_pooling2d_3 (MaxPooling2 (None, 128, 128, 32)      0         \n",
      "_________________________________________________________________\n",
      "conv2d_4 (Conv2D)            (None, 128, 128, 32)      9248      \n",
      "_________________________________________________________________\n",
      "max_pooling2d_4 (MaxPooling2 (None, 64, 64, 32)        0         \n",
      "_________________________________________________________________\n",
      "conv2d_5 (Conv2D)            (None, 64, 64, 64)        18496     \n",
      "_________________________________________________________________\n",
      "max_pooling2d_5 (MaxPooling2 (None, 32, 32, 64)        0         \n",
      "_________________________________________________________________\n",
      "dropout_1 (Dropout)          (None, 32, 32, 64)        0         \n",
      "_________________________________________________________________\n",
      "flatten_1 (Flatten)          (None, 65536)             0         \n",
      "_________________________________________________________________\n",
      "dense_2 (Dense)              (None, 128)               8388736   \n",
      "_________________________________________________________________\n",
      "dense_3 (Dense)              (None, 10)                1290      \n",
      "=================================================================\n",
      "Total params: 8,418,666\n",
      "Trainable params: 8,418,666\n",
      "Non-trainable params: 0\n",
      "_________________________________________________________________\n"
     ]
    }
   ],
   "source": [
    "model = Sequential()\n",
    "model.add(Conv2D(32,3,padding=\"same\", activation=\"relu\", input_shape=(256,256,3)))\n",
    "model.add(MaxPool2D())\n",
    "\n",
    "model.add(Conv2D(32, 3, padding=\"same\", activation=\"relu\"))\n",
    "model.add(MaxPool2D())\n",
    "\n",
    "model.add(Conv2D(64, 3, padding=\"same\", activation=\"relu\"))\n",
    "model.add(MaxPool2D())\n",
    "model.add(Dropout(0.4))\n",
    "\n",
    "model.add(Flatten())\n",
    "model.add(Dense(128,activation=\"relu\"))\n",
    "model.add(Dense(10, activation=\"softmax\"))\n",
    "\n",
    "model.summary()"
   ]
  },
  {
   "cell_type": "code",
   "execution_count": 28,
   "metadata": {
    "id": "uJFFmPkVTr-f"
   },
   "outputs": [
    {
     "name": "stderr",
     "output_type": "stream",
     "text": [
      "C:\\ProgramData\\Anaconda3\\envs\\MAIBsem1\\lib\\site-packages\\keras\\optimizer_v2\\optimizer_v2.py:356: UserWarning: The `lr` argument is deprecated, use `learning_rate` instead.\n",
      "  \"The `lr` argument is deprecated, use `learning_rate` instead.\")\n"
     ]
    }
   ],
   "source": [
    "opt = Adam(lr=0.0001)\n",
    "model.compile(optimizer = opt , loss = tf.keras.losses.SparseCategoricalCrossentropy(from_logits=True) , metrics = ['accuracy'])"
   ]
  },
  {
   "cell_type": "code",
   "execution_count": 30,
   "metadata": {
    "id": "RciGH_6YTzlf"
   },
   "outputs": [
    {
     "name": "stdout",
     "output_type": "stream",
     "text": [
      "Epoch 1/150\n",
      "19/19 [==============================] - 20s 1s/step - loss: 2.1577 - accuracy: 0.1917 - val_loss: 2.1288 - val_accuracy: 0.2500\n",
      "Epoch 2/150\n",
      "19/19 [==============================] - 19s 1s/step - loss: 2.0470 - accuracy: 0.2467 - val_loss: 2.0670 - val_accuracy: 0.2350\n",
      "Epoch 3/150\n",
      "19/19 [==============================] - 20s 1s/step - loss: 1.9157 - accuracy: 0.2983 - val_loss: 1.9655 - val_accuracy: 0.3325\n",
      "Epoch 4/150\n",
      "19/19 [==============================] - 20s 1s/step - loss: 1.7976 - accuracy: 0.3350 - val_loss: 1.9574 - val_accuracy: 0.3100\n",
      "Epoch 5/150\n",
      "19/19 [==============================] - 19s 997ms/step - loss: 1.7406 - accuracy: 0.3600 - val_loss: 1.9365 - val_accuracy: 0.3475\n",
      "Epoch 6/150\n",
      "19/19 [==============================] - 19s 1s/step - loss: 1.6419 - accuracy: 0.4133 - val_loss: 1.8751 - val_accuracy: 0.3225\n",
      "Epoch 7/150\n",
      "19/19 [==============================] - 19s 1s/step - loss: 1.5964 - accuracy: 0.4300 - val_loss: 1.8820 - val_accuracy: 0.3475\n",
      "Epoch 8/150\n",
      "19/19 [==============================] - 19s 997ms/step - loss: 1.5567 - accuracy: 0.4450 - val_loss: 1.8845 - val_accuracy: 0.3350\n",
      "Epoch 9/150\n",
      "19/19 [==============================] - 19s 1s/step - loss: 1.5172 - accuracy: 0.4583 - val_loss: 1.9109 - val_accuracy: 0.3575\n",
      "Epoch 10/150\n",
      "19/19 [==============================] - 19s 1s/step - loss: 1.5219 - accuracy: 0.4417 - val_loss: 1.7810 - val_accuracy: 0.3275\n",
      "Epoch 11/150\n",
      "19/19 [==============================] - 19s 1s/step - loss: 1.4659 - accuracy: 0.4633 - val_loss: 1.8757 - val_accuracy: 0.3000\n",
      "Epoch 12/150\n",
      "19/19 [==============================] - 19s 1s/step - loss: 1.4151 - accuracy: 0.4700 - val_loss: 1.8165 - val_accuracy: 0.3350\n",
      "Epoch 13/150\n",
      "19/19 [==============================] - 19s 1s/step - loss: 1.3606 - accuracy: 0.5067 - val_loss: 1.7664 - val_accuracy: 0.3475\n",
      "Epoch 14/150\n",
      "19/19 [==============================] - 19s 1s/step - loss: 1.3691 - accuracy: 0.5383 - val_loss: 1.8154 - val_accuracy: 0.3200\n",
      "Epoch 15/150\n",
      "19/19 [==============================] - 19s 1s/step - loss: 1.3615 - accuracy: 0.5250 - val_loss: 1.8365 - val_accuracy: 0.3200\n",
      "Epoch 16/150\n",
      "19/19 [==============================] - 19s 1s/step - loss: 1.2972 - accuracy: 0.5383 - val_loss: 1.7505 - val_accuracy: 0.3475\n",
      "Epoch 17/150\n",
      "19/19 [==============================] - 19s 1s/step - loss: 1.2593 - accuracy: 0.5633 - val_loss: 1.8139 - val_accuracy: 0.3050\n",
      "Epoch 18/150\n",
      "19/19 [==============================] - 20s 1s/step - loss: 1.2337 - accuracy: 0.5767 - val_loss: 1.7347 - val_accuracy: 0.3525\n",
      "Epoch 19/150\n",
      "19/19 [==============================] - 22s 1s/step - loss: 1.2008 - accuracy: 0.5733 - val_loss: 1.7692 - val_accuracy: 0.3325\n",
      "Epoch 20/150\n",
      "19/19 [==============================] - 21s 1s/step - loss: 1.1924 - accuracy: 0.5917 - val_loss: 1.7408 - val_accuracy: 0.3475\n",
      "Epoch 21/150\n",
      "19/19 [==============================] - 21s 1s/step - loss: 1.1640 - accuracy: 0.6083 - val_loss: 1.7945 - val_accuracy: 0.3800\n",
      "Epoch 22/150\n",
      "19/19 [==============================] - 19s 1s/step - loss: 1.1502 - accuracy: 0.5917 - val_loss: 1.7618 - val_accuracy: 0.3525\n",
      "Epoch 23/150\n",
      "19/19 [==============================] - 18s 968ms/step - loss: 1.1337 - accuracy: 0.6117 - val_loss: 1.8405 - val_accuracy: 0.3425\n",
      "Epoch 24/150\n",
      "19/19 [==============================] - 20s 1s/step - loss: 1.1197 - accuracy: 0.6017 - val_loss: 1.7375 - val_accuracy: 0.3525\n",
      "Epoch 25/150\n",
      "19/19 [==============================] - 20s 1s/step - loss: 1.1489 - accuracy: 0.5967 - val_loss: 1.7618 - val_accuracy: 0.3725\n",
      "Epoch 26/150\n",
      "19/19 [==============================] - 21s 1s/step - loss: 1.0853 - accuracy: 0.6233 - val_loss: 1.6831 - val_accuracy: 0.3975\n",
      "Epoch 27/150\n",
      "19/19 [==============================] - 21s 1s/step - loss: 1.0686 - accuracy: 0.6300 - val_loss: 1.8026 - val_accuracy: 0.3475\n",
      "Epoch 28/150\n",
      "19/19 [==============================] - 20s 1s/step - loss: 1.0182 - accuracy: 0.6400 - val_loss: 1.7322 - val_accuracy: 0.3600\n",
      "Epoch 29/150\n",
      "19/19 [==============================] - 18s 935ms/step - loss: 1.0319 - accuracy: 0.6333 - val_loss: 1.7563 - val_accuracy: 0.3800\n",
      "Epoch 30/150\n",
      "19/19 [==============================] - 18s 930ms/step - loss: 1.0296 - accuracy: 0.6467 - val_loss: 1.7608 - val_accuracy: 0.3775\n",
      "Epoch 31/150\n",
      "19/19 [==============================] - 21s 1s/step - loss: 0.9885 - accuracy: 0.6583 - val_loss: 1.7645 - val_accuracy: 0.3850\n",
      "Epoch 32/150\n",
      "19/19 [==============================] - 22s 1s/step - loss: 0.9588 - accuracy: 0.6700 - val_loss: 1.8064 - val_accuracy: 0.3900\n",
      "Epoch 33/150\n",
      "19/19 [==============================] - 19s 998ms/step - loss: 0.9673 - accuracy: 0.6733 - val_loss: 1.7629 - val_accuracy: 0.3850\n",
      "Epoch 34/150\n",
      "19/19 [==============================] - 20s 1s/step - loss: 0.9214 - accuracy: 0.6883 - val_loss: 1.7250 - val_accuracy: 0.3850\n",
      "Epoch 35/150\n",
      "19/19 [==============================] - 20s 1s/step - loss: 0.8947 - accuracy: 0.7100 - val_loss: 1.7671 - val_accuracy: 0.3875\n",
      "Epoch 36/150\n",
      "19/19 [==============================] - 20s 1s/step - loss: 0.8815 - accuracy: 0.7100 - val_loss: 1.7103 - val_accuracy: 0.3775\n",
      "Epoch 37/150\n",
      "19/19 [==============================] - 18s 939ms/step - loss: 0.8792 - accuracy: 0.6933 - val_loss: 1.8028 - val_accuracy: 0.3725\n",
      "Epoch 38/150\n",
      "19/19 [==============================] - 18s 968ms/step - loss: 0.8887 - accuracy: 0.6850 - val_loss: 1.7930 - val_accuracy: 0.3675\n",
      "Epoch 39/150\n",
      "19/19 [==============================] - 18s 945ms/step - loss: 0.8543 - accuracy: 0.7150 - val_loss: 1.7686 - val_accuracy: 0.3750\n",
      "Epoch 40/150\n",
      "19/19 [==============================] - 18s 948ms/step - loss: 0.8423 - accuracy: 0.7050 - val_loss: 1.8123 - val_accuracy: 0.4050\n",
      "Epoch 41/150\n",
      "19/19 [==============================] - 18s 944ms/step - loss: 0.8486 - accuracy: 0.7050 - val_loss: 1.8345 - val_accuracy: 0.3925\n",
      "Epoch 42/150\n",
      "19/19 [==============================] - 18s 937ms/step - loss: 0.8838 - accuracy: 0.6717 - val_loss: 1.8198 - val_accuracy: 0.3825\n",
      "Epoch 43/150\n",
      "19/19 [==============================] - 18s 938ms/step - loss: 0.7883 - accuracy: 0.7383 - val_loss: 1.7909 - val_accuracy: 0.3850\n",
      "Epoch 44/150\n",
      "19/19 [==============================] - 18s 929ms/step - loss: 0.7800 - accuracy: 0.7517 - val_loss: 1.6769 - val_accuracy: 0.3950\n",
      "Epoch 45/150\n",
      "19/19 [==============================] - 18s 931ms/step - loss: 0.7184 - accuracy: 0.7817 - val_loss: 1.7307 - val_accuracy: 0.4175\n",
      "Epoch 46/150\n",
      "19/19 [==============================] - 18s 952ms/step - loss: 0.7044 - accuracy: 0.7533 - val_loss: 1.8368 - val_accuracy: 0.3850\n",
      "Epoch 47/150\n",
      "19/19 [==============================] - 19s 998ms/step - loss: 0.7328 - accuracy: 0.7517 - val_loss: 1.7246 - val_accuracy: 0.4300\n",
      "Epoch 48/150\n",
      "19/19 [==============================] - 18s 934ms/step - loss: 0.6735 - accuracy: 0.7733 - val_loss: 1.8647 - val_accuracy: 0.4075\n",
      "Epoch 49/150\n",
      "19/19 [==============================] - 18s 935ms/step - loss: 0.7076 - accuracy: 0.7617 - val_loss: 1.9295 - val_accuracy: 0.3625\n",
      "Epoch 50/150\n",
      "19/19 [==============================] - 21s 1s/step - loss: 0.7121 - accuracy: 0.7550 - val_loss: 1.7304 - val_accuracy: 0.4050\n",
      "Epoch 51/150\n",
      "19/19 [==============================] - 20s 1s/step - loss: 0.6618 - accuracy: 0.7750 - val_loss: 1.7958 - val_accuracy: 0.4050\n",
      "Epoch 52/150\n",
      "19/19 [==============================] - 18s 949ms/step - loss: 0.6377 - accuracy: 0.7917 - val_loss: 1.8060 - val_accuracy: 0.4300\n",
      "Epoch 53/150\n",
      "19/19 [==============================] - 18s 950ms/step - loss: 0.6395 - accuracy: 0.8017 - val_loss: 1.7497 - val_accuracy: 0.4200\n",
      "Epoch 54/150\n",
      "19/19 [==============================] - 18s 971ms/step - loss: 0.6321 - accuracy: 0.8050 - val_loss: 1.7995 - val_accuracy: 0.3925\n",
      "Epoch 55/150\n",
      "19/19 [==============================] - 18s 944ms/step - loss: 0.6181 - accuracy: 0.7817 - val_loss: 1.8088 - val_accuracy: 0.3875\n",
      "Epoch 56/150\n",
      "19/19 [==============================] - 18s 981ms/step - loss: 0.6044 - accuracy: 0.8117 - val_loss: 1.7433 - val_accuracy: 0.4225\n",
      "Epoch 57/150\n",
      "19/19 [==============================] - 18s 963ms/step - loss: 0.5806 - accuracy: 0.8167 - val_loss: 1.8275 - val_accuracy: 0.4075\n",
      "Epoch 58/150\n"
     ]
    },
    {
     "name": "stdout",
     "output_type": "stream",
     "text": [
      "19/19 [==============================] - 18s 949ms/step - loss: 0.6178 - accuracy: 0.7983 - val_loss: 1.8162 - val_accuracy: 0.4150\n",
      "Epoch 59/150\n",
      "19/19 [==============================] - 18s 943ms/step - loss: 0.5698 - accuracy: 0.8117 - val_loss: 1.8247 - val_accuracy: 0.4425\n",
      "Epoch 60/150\n",
      "19/19 [==============================] - 18s 978ms/step - loss: 0.5587 - accuracy: 0.8083 - val_loss: 1.8236 - val_accuracy: 0.4150\n",
      "Epoch 61/150\n",
      "19/19 [==============================] - 18s 957ms/step - loss: 0.5428 - accuracy: 0.8217 - val_loss: 1.7740 - val_accuracy: 0.4375\n",
      "Epoch 62/150\n",
      "19/19 [==============================] - 18s 947ms/step - loss: 0.5043 - accuracy: 0.8417 - val_loss: 1.8429 - val_accuracy: 0.4050\n",
      "Epoch 63/150\n",
      "19/19 [==============================] - 18s 942ms/step - loss: 0.5029 - accuracy: 0.8417 - val_loss: 1.7768 - val_accuracy: 0.4250\n",
      "Epoch 64/150\n",
      "19/19 [==============================] - 18s 964ms/step - loss: 0.4990 - accuracy: 0.8450 - val_loss: 1.8744 - val_accuracy: 0.4450\n",
      "Epoch 65/150\n",
      "19/19 [==============================] - 18s 944ms/step - loss: 0.4810 - accuracy: 0.8567 - val_loss: 1.8566 - val_accuracy: 0.4300\n",
      "Epoch 66/150\n",
      "19/19 [==============================] - 18s 942ms/step - loss: 0.4544 - accuracy: 0.8650 - val_loss: 1.8151 - val_accuracy: 0.4650\n",
      "Epoch 67/150\n",
      "19/19 [==============================] - 19s 1s/step - loss: 0.4847 - accuracy: 0.8400 - val_loss: 1.7921 - val_accuracy: 0.4325\n",
      "Epoch 68/150\n",
      "19/19 [==============================] - 18s 972ms/step - loss: 0.4513 - accuracy: 0.8567 - val_loss: 1.8301 - val_accuracy: 0.4450\n",
      "Epoch 69/150\n",
      "19/19 [==============================] - 18s 947ms/step - loss: 0.4326 - accuracy: 0.8700 - val_loss: 1.8377 - val_accuracy: 0.4300\n",
      "Epoch 70/150\n",
      "19/19 [==============================] - 18s 958ms/step - loss: 0.4054 - accuracy: 0.8683 - val_loss: 1.8227 - val_accuracy: 0.4550\n",
      "Epoch 71/150\n",
      "19/19 [==============================] - 19s 989ms/step - loss: 0.4114 - accuracy: 0.8617 - val_loss: 1.9101 - val_accuracy: 0.4100\n",
      "Epoch 72/150\n",
      "19/19 [==============================] - 18s 951ms/step - loss: 0.4328 - accuracy: 0.8533 - val_loss: 1.8464 - val_accuracy: 0.4450\n",
      "Epoch 73/150\n",
      "19/19 [==============================] - 18s 948ms/step - loss: 0.4002 - accuracy: 0.8800 - val_loss: 1.8901 - val_accuracy: 0.4325\n",
      "Epoch 74/150\n",
      "19/19 [==============================] - 18s 964ms/step - loss: 0.3867 - accuracy: 0.8883 - val_loss: 2.0102 - val_accuracy: 0.4225\n",
      "Epoch 75/150\n",
      "19/19 [==============================] - 18s 968ms/step - loss: 0.3810 - accuracy: 0.8867 - val_loss: 1.9095 - val_accuracy: 0.4475\n",
      "Epoch 76/150\n",
      "19/19 [==============================] - 18s 956ms/step - loss: 0.3681 - accuracy: 0.8833 - val_loss: 1.9441 - val_accuracy: 0.4300\n",
      "Epoch 77/150\n",
      "19/19 [==============================] - 19s 1s/step - loss: 0.3572 - accuracy: 0.9050 - val_loss: 1.9712 - val_accuracy: 0.4550\n",
      "Epoch 78/150\n",
      "19/19 [==============================] - 18s 979ms/step - loss: 0.3550 - accuracy: 0.8850 - val_loss: 1.8618 - val_accuracy: 0.4550\n",
      "Epoch 79/150\n",
      "19/19 [==============================] - 19s 989ms/step - loss: 0.3273 - accuracy: 0.9133 - val_loss: 1.8805 - val_accuracy: 0.4350\n",
      "Epoch 80/150\n",
      "19/19 [==============================] - 19s 993ms/step - loss: 0.3204 - accuracy: 0.9150 - val_loss: 1.9983 - val_accuracy: 0.4200\n",
      "Epoch 81/150\n",
      "19/19 [==============================] - 18s 944ms/step - loss: 0.3471 - accuracy: 0.8883 - val_loss: 2.0569 - val_accuracy: 0.4550\n",
      "Epoch 82/150\n",
      "19/19 [==============================] - 18s 945ms/step - loss: 0.3664 - accuracy: 0.8817 - val_loss: 2.0050 - val_accuracy: 0.4300\n",
      "Epoch 83/150\n",
      "19/19 [==============================] - 18s 943ms/step - loss: 0.3089 - accuracy: 0.9200 - val_loss: 2.0039 - val_accuracy: 0.4375\n",
      "Epoch 84/150\n",
      "19/19 [==============================] - 18s 959ms/step - loss: 0.3374 - accuracy: 0.9033 - val_loss: 1.9830 - val_accuracy: 0.4400\n",
      "Epoch 85/150\n",
      "19/19 [==============================] - 18s 948ms/step - loss: 0.2856 - accuracy: 0.9317 - val_loss: 2.0462 - val_accuracy: 0.4375\n",
      "Epoch 86/150\n",
      "19/19 [==============================] - 18s 939ms/step - loss: 0.3333 - accuracy: 0.9000 - val_loss: 1.9661 - val_accuracy: 0.4450\n",
      "Epoch 87/150\n",
      "19/19 [==============================] - 18s 963ms/step - loss: 0.2818 - accuracy: 0.9267 - val_loss: 1.9431 - val_accuracy: 0.4700\n",
      "Epoch 88/150\n",
      "19/19 [==============================] - 18s 942ms/step - loss: 0.2923 - accuracy: 0.9183 - val_loss: 2.1007 - val_accuracy: 0.4025\n",
      "Epoch 89/150\n",
      "19/19 [==============================] - 18s 955ms/step - loss: 0.2815 - accuracy: 0.9150 - val_loss: 1.9576 - val_accuracy: 0.4650\n",
      "Epoch 90/150\n",
      "19/19 [==============================] - 18s 971ms/step - loss: 0.2415 - accuracy: 0.9267 - val_loss: 1.9706 - val_accuracy: 0.4450\n",
      "Epoch 91/150\n",
      "19/19 [==============================] - 18s 957ms/step - loss: 0.2552 - accuracy: 0.9333 - val_loss: 2.1651 - val_accuracy: 0.4425\n",
      "Epoch 92/150\n",
      "19/19 [==============================] - 18s 956ms/step - loss: 0.2575 - accuracy: 0.9317 - val_loss: 2.0529 - val_accuracy: 0.4375\n",
      "Epoch 93/150\n",
      "19/19 [==============================] - 18s 973ms/step - loss: 0.2446 - accuracy: 0.9367 - val_loss: 2.0395 - val_accuracy: 0.4475\n",
      "Epoch 94/150\n",
      "19/19 [==============================] - 18s 945ms/step - loss: 0.2360 - accuracy: 0.9467 - val_loss: 2.1967 - val_accuracy: 0.4475\n",
      "Epoch 95/150\n",
      "19/19 [==============================] - 18s 947ms/step - loss: 0.2289 - accuracy: 0.9483 - val_loss: 2.0212 - val_accuracy: 0.4800\n",
      "Epoch 96/150\n",
      "19/19 [==============================] - 18s 950ms/step - loss: 0.2489 - accuracy: 0.9350 - val_loss: 2.0359 - val_accuracy: 0.4425\n",
      "Epoch 97/150\n",
      "19/19 [==============================] - 18s 978ms/step - loss: 0.2083 - accuracy: 0.9600 - val_loss: 2.0561 - val_accuracy: 0.4600\n",
      "Epoch 98/150\n",
      "19/19 [==============================] - 18s 947ms/step - loss: 0.2495 - accuracy: 0.9367 - val_loss: 2.0431 - val_accuracy: 0.4600\n",
      "Epoch 99/150\n",
      "19/19 [==============================] - 18s 949ms/step - loss: 0.2146 - accuracy: 0.9433 - val_loss: 2.0789 - val_accuracy: 0.4700\n",
      "Epoch 100/150\n",
      "19/19 [==============================] - 18s 981ms/step - loss: 0.2310 - accuracy: 0.9333 - val_loss: 2.2327 - val_accuracy: 0.4500\n",
      "Epoch 101/150\n",
      "19/19 [==============================] - 18s 973ms/step - loss: 0.2017 - accuracy: 0.9550 - val_loss: 2.1411 - val_accuracy: 0.4350\n",
      "Epoch 102/150\n",
      "19/19 [==============================] - 18s 952ms/step - loss: 0.2207 - accuracy: 0.9317 - val_loss: 2.1046 - val_accuracy: 0.4600\n",
      "Epoch 103/150\n",
      "19/19 [==============================] - 20s 1s/step - loss: 0.1887 - accuracy: 0.9567 - val_loss: 2.1845 - val_accuracy: 0.4550\n",
      "Epoch 104/150\n",
      "19/19 [==============================] - 19s 1s/step - loss: 0.1908 - accuracy: 0.9500 - val_loss: 2.1060 - val_accuracy: 0.4775\n",
      "Epoch 105/150\n",
      "19/19 [==============================] - 18s 972ms/step - loss: 0.1872 - accuracy: 0.9500 - val_loss: 2.1619 - val_accuracy: 0.4550\n",
      "Epoch 106/150\n",
      "19/19 [==============================] - 19s 1s/step - loss: 0.1617 - accuracy: 0.9700 - val_loss: 2.3059 - val_accuracy: 0.4550\n",
      "Epoch 107/150\n",
      "19/19 [==============================] - 19s 975ms/step - loss: 0.1714 - accuracy: 0.9617 - val_loss: 2.1535 - val_accuracy: 0.4625\n",
      "Epoch 108/150\n",
      "19/19 [==============================] - 18s 955ms/step - loss: 0.1540 - accuracy: 0.9650 - val_loss: 2.1740 - val_accuracy: 0.4825\n",
      "Epoch 109/150\n",
      "19/19 [==============================] - 18s 974ms/step - loss: 0.1423 - accuracy: 0.9700 - val_loss: 2.2809 - val_accuracy: 0.4500\n",
      "Epoch 110/150\n",
      "19/19 [==============================] - 19s 1s/step - loss: 0.1521 - accuracy: 0.9700 - val_loss: 2.1986 - val_accuracy: 0.4600\n",
      "Epoch 111/150\n",
      "19/19 [==============================] - 18s 974ms/step - loss: 0.1358 - accuracy: 0.9733 - val_loss: 2.4498 - val_accuracy: 0.4450\n",
      "Epoch 112/150\n",
      "19/19 [==============================] - 18s 964ms/step - loss: 0.1486 - accuracy: 0.9717 - val_loss: 2.1650 - val_accuracy: 0.4550\n",
      "Epoch 113/150\n",
      "19/19 [==============================] - 18s 978ms/step - loss: 0.1377 - accuracy: 0.9767 - val_loss: 2.2720 - val_accuracy: 0.4475\n",
      "Epoch 114/150\n"
     ]
    },
    {
     "name": "stdout",
     "output_type": "stream",
     "text": [
      "19/19 [==============================] - 18s 968ms/step - loss: 0.1432 - accuracy: 0.9683 - val_loss: 2.2388 - val_accuracy: 0.4550\n",
      "Epoch 115/150\n",
      "19/19 [==============================] - 18s 968ms/step - loss: 0.1281 - accuracy: 0.9800 - val_loss: 2.2760 - val_accuracy: 0.4775\n",
      "Epoch 116/150\n",
      "19/19 [==============================] - 18s 952ms/step - loss: 0.1175 - accuracy: 0.9817 - val_loss: 2.2149 - val_accuracy: 0.4750\n",
      "Epoch 117/150\n",
      "19/19 [==============================] - 19s 984ms/step - loss: 0.1235 - accuracy: 0.9683 - val_loss: 2.3340 - val_accuracy: 0.4375\n",
      "Epoch 118/150\n",
      "19/19 [==============================] - 18s 943ms/step - loss: 0.1412 - accuracy: 0.9683 - val_loss: 2.4032 - val_accuracy: 0.4475\n",
      "Epoch 119/150\n",
      "19/19 [==============================] - 19s 981ms/step - loss: 0.1361 - accuracy: 0.9700 - val_loss: 2.1771 - val_accuracy: 0.4825\n",
      "Epoch 120/150\n",
      "19/19 [==============================] - 18s 958ms/step - loss: 0.1173 - accuracy: 0.9817 - val_loss: 2.3513 - val_accuracy: 0.4475\n",
      "Epoch 121/150\n",
      "19/19 [==============================] - 18s 960ms/step - loss: 0.1161 - accuracy: 0.9733 - val_loss: 2.4578 - val_accuracy: 0.4650\n",
      "Epoch 122/150\n",
      "19/19 [==============================] - 18s 963ms/step - loss: 0.1246 - accuracy: 0.9750 - val_loss: 2.3325 - val_accuracy: 0.4625\n",
      "Epoch 123/150\n",
      "19/19 [==============================] - 18s 953ms/step - loss: 0.1227 - accuracy: 0.9667 - val_loss: 2.3066 - val_accuracy: 0.4625\n",
      "Epoch 124/150\n",
      "19/19 [==============================] - 18s 952ms/step - loss: 0.1090 - accuracy: 0.9800 - val_loss: 2.4382 - val_accuracy: 0.4700\n",
      "Epoch 125/150\n",
      "19/19 [==============================] - 18s 948ms/step - loss: 0.1182 - accuracy: 0.9733 - val_loss: 2.4118 - val_accuracy: 0.4700\n",
      "Epoch 126/150\n",
      "19/19 [==============================] - 18s 959ms/step - loss: 0.1103 - accuracy: 0.9783 - val_loss: 2.5352 - val_accuracy: 0.4425\n",
      "Epoch 127/150\n",
      "19/19 [==============================] - 18s 937ms/step - loss: 0.1216 - accuracy: 0.9767 - val_loss: 2.3499 - val_accuracy: 0.4575\n",
      "Epoch 128/150\n",
      "19/19 [==============================] - 18s 957ms/step - loss: 0.1125 - accuracy: 0.9767 - val_loss: 2.3944 - val_accuracy: 0.4850\n",
      "Epoch 129/150\n",
      "19/19 [==============================] - 18s 956ms/step - loss: 0.1075 - accuracy: 0.9800 - val_loss: 2.4026 - val_accuracy: 0.4650\n",
      "Epoch 130/150\n",
      "19/19 [==============================] - 18s 969ms/step - loss: 0.0948 - accuracy: 0.9867 - val_loss: 2.5057 - val_accuracy: 0.4600\n",
      "Epoch 131/150\n",
      "19/19 [==============================] - 18s 972ms/step - loss: 0.1038 - accuracy: 0.9867 - val_loss: 2.5930 - val_accuracy: 0.4550\n",
      "Epoch 132/150\n",
      "19/19 [==============================] - 18s 970ms/step - loss: 0.0875 - accuracy: 0.9867 - val_loss: 2.5279 - val_accuracy: 0.4525\n",
      "Epoch 133/150\n",
      "19/19 [==============================] - 18s 972ms/step - loss: 0.0797 - accuracy: 0.9917 - val_loss: 2.4638 - val_accuracy: 0.4750\n",
      "Epoch 134/150\n",
      "19/19 [==============================] - 18s 977ms/step - loss: 0.0633 - accuracy: 0.9950 - val_loss: 2.4446 - val_accuracy: 0.4725\n",
      "Epoch 135/150\n",
      "19/19 [==============================] - 18s 972ms/step - loss: 0.0740 - accuracy: 0.9883 - val_loss: 2.4975 - val_accuracy: 0.4800\n",
      "Epoch 136/150\n",
      "19/19 [==============================] - 18s 962ms/step - loss: 0.0692 - accuracy: 0.9933 - val_loss: 2.4965 - val_accuracy: 0.4600\n",
      "Epoch 137/150\n",
      "19/19 [==============================] - 18s 971ms/step - loss: 0.0703 - accuracy: 0.9950 - val_loss: 2.4148 - val_accuracy: 0.4925\n",
      "Epoch 138/150\n",
      "19/19 [==============================] - 18s 963ms/step - loss: 0.0695 - accuracy: 0.9917 - val_loss: 2.5048 - val_accuracy: 0.4675\n",
      "Epoch 139/150\n",
      "19/19 [==============================] - 19s 1s/step - loss: 0.0659 - accuracy: 0.9950 - val_loss: 2.5792 - val_accuracy: 0.4650\n",
      "Epoch 140/150\n",
      "19/19 [==============================] - 19s 1s/step - loss: 0.0723 - accuracy: 0.9883 - val_loss: 2.5390 - val_accuracy: 0.4800\n",
      "Epoch 141/150\n",
      "19/19 [==============================] - 19s 1s/step - loss: 0.0642 - accuracy: 0.9917 - val_loss: 2.5676 - val_accuracy: 0.4900\n",
      "Epoch 142/150\n",
      "19/19 [==============================] - 18s 961ms/step - loss: 0.0637 - accuracy: 0.9967 - val_loss: 2.5608 - val_accuracy: 0.4575\n",
      "Epoch 143/150\n",
      "19/19 [==============================] - 18s 972ms/step - loss: 0.0584 - accuracy: 0.9933 - val_loss: 2.5490 - val_accuracy: 0.4750\n",
      "Epoch 144/150\n",
      "19/19 [==============================] - 18s 977ms/step - loss: 0.0668 - accuracy: 0.9917 - val_loss: 2.5393 - val_accuracy: 0.4625\n",
      "Epoch 145/150\n",
      "19/19 [==============================] - 19s 994ms/step - loss: 0.0525 - accuracy: 0.9967 - val_loss: 2.6060 - val_accuracy: 0.4675\n",
      "Epoch 146/150\n",
      "19/19 [==============================] - 18s 978ms/step - loss: 0.0545 - accuracy: 0.9950 - val_loss: 2.5993 - val_accuracy: 0.4875\n",
      "Epoch 147/150\n",
      "19/19 [==============================] - 18s 964ms/step - loss: 0.0571 - accuracy: 0.9933 - val_loss: 2.6963 - val_accuracy: 0.4425\n",
      "Epoch 148/150\n",
      "19/19 [==============================] - 18s 956ms/step - loss: 0.0823 - accuracy: 0.9817 - val_loss: 2.5132 - val_accuracy: 0.4700\n",
      "Epoch 149/150\n",
      "19/19 [==============================] - 18s 954ms/step - loss: 0.0599 - accuracy: 0.9917 - val_loss: 2.6304 - val_accuracy: 0.4725\n",
      "Epoch 150/150\n",
      "19/19 [==============================] - 18s 948ms/step - loss: 0.0547 - accuracy: 0.9950 - val_loss: 2.6852 - val_accuracy: 0.4875\n"
     ]
    }
   ],
   "source": [
    "history = model.fit(x_train,y_train,epochs = 150, validation_data = (x_val, y_val))"
   ]
  },
  {
   "cell_type": "code",
   "execution_count": 35,
   "metadata": {
    "id": "EYRkEJTjmAiF"
   },
   "outputs": [],
   "source": [
    "import pickle\n",
    "model.save_weights('500_epoch_simple_lr.cpkt')\n",
    "\n",
    "pickle.dump(history.history, open('history_500_epoch_simple.pkl','wb'))"
   ]
  },
  {
   "cell_type": "code",
   "execution_count": 36,
   "metadata": {
    "id": "3GJSYHmQT6EA"
   },
   "outputs": [
    {
     "data": {
      "image/png": "[encoded data removed]",
      "text/plain": [
       "<Figure size 1800x1080 with 2 Axes>"
      ]
     },
     "metadata": {
      "needs_background": "light"
     },
     "output_type": "display_data"
    }
   ],
   "source": [
    "acc = history.history['accuracy']\n",
    "val_acc = history.history['val_accuracy']\n",
    "loss = history.history['loss']\n",
    "val_loss = history.history['val_loss']\n",
    "\n",
    "epochs_range = range(150)\n",
    "\n",
    "plt.figure(figsize=(25, 15))\n",
    "plt.subplot(2, 2, 1)\n",
    "plt.plot(epochs_range, acc, label='Training Accuracy')\n",
    "plt.plot(epochs_range, val_acc, label='Validation Accuracy')\n",
    "plt.legend(loc='lower right')\n",
    "plt.title('Training and Validation Accuracy')\n",
    "\n",
    "plt.subplot(2, 2, 2)\n",
    "plt.plot(epochs_range, loss, label='Training Loss')\n",
    "plt.plot(epochs_range, val_loss, label='Validation Loss')\n",
    "plt.legend(loc='upper right')\n",
    "plt.title('Training and Validation Loss')\n",
    "plt.show()"
   ]
  },
  {
   "cell_type": "code",
   "execution_count": 45,
   "metadata": {
    "colab": {
     "base_uri": "https://localhost:8080/",
     "height": 34
    },
    "id": "rSSZy4h5XwKg",
    "outputId": "4e8c12b5-5fb2-4d58-e512-a7ae663916d9"
   },
   "outputs": [
    {
     "data": {
      "text/plain": [
       "<Figure size 1080x432 with 0 Axes>"
      ]
     },
     "metadata": {},
     "output_type": "display_data"
    }
   ],
   "source": [
    "import pickle\n",
    "history = pickle.load(open('history_500_epoch_simple.pkl','rb'))\n",
    "acc = history['accuracy']\n",
    "val_acc = history['val_accuracy']\n",
    "loss = history['loss']\n",
    "val_loss = history['val_loss']\n",
    "\n",
    "epochs_range = range(150)\n",
    "fig, (ax1, ax2) = plt.subplots(1,2, figsize=(15,6))\n",
    "plt.rc('xtick', labelsize=10)    # fontsize of the tick labels\n",
    "plt.rc('ytick', labelsize=10)\n",
    "ax1.plot(epochs_range, acc, label='Training Accuracy', c = '#4CAF50', linewidth=4)\n",
    "ax1.plot(epochs_range, val_acc, label='Validation Accuracy', c='red', linewidth=4)\n",
    "ax1.legend()\n",
    "ax1.set_title('Training and Validation Accuracy',fontsize=18)\n",
    "ax1.set_ylabel('Accuracy',fontsize=18)\n",
    "ax1.set_xlabel('Epoch',fontsize=18)\n",
    "\n",
    "ax2.plot(epochs_range, loss, label='Training Loss',c = '#4CAF50', linewidth=4)\n",
    "ax2.plot(epochs_range, val_loss, label='Validation Loss', c='red', linewidth=4)\n",
    "ax2.legend()\n",
    "ax2.set_title('Training and Validation Loss',fontsize=18)\n",
    "ax2.set_ylabel('Loss',fontsize=18)\n",
    "ax2.set_xlabel('Epoch',fontsize=18)\n",
    "fig.tight_layout(pad=3.0)\n",
    "#plt.show()\n",
    "plt.savefig('sim_plot1.png',bbox_inches = 'tight')\n",
    "plt.clf()"
   ]
  },
  {
   "cell_type": "code",
   "execution_count": 47,
   "metadata": {
    "id": "BLe4sDlebDiE"
   },
   "outputs": [
    {
     "name": "stdout",
     "output_type": "stream",
     "text": [
      "              precision    recall  f1-score   support\n",
      "\n",
      "       blues       0.43      0.47      0.45        40\n",
      "   classical       0.89      0.82      0.86        40\n",
      "     country       0.41      0.50      0.45        40\n",
      "       disco       0.57      0.20      0.30        40\n",
      "      hiphop       0.30      0.57      0.40        40\n",
      "        jazz       0.46      0.42      0.44        40\n",
      "       metal       0.72      0.72      0.73        40\n",
      "         pop       0.83      0.60      0.70        40\n",
      "      reggae       0.31      0.33      0.32        40\n",
      "        rock       0.28      0.23      0.25        40\n",
      "\n",
      "    accuracy                           0.49       400\n",
      "   macro avg       0.52      0.49      0.49       400\n",
      "weighted avg       0.52      0.49      0.49       400\n",
      "\n"
     ]
    }
   ],
   "source": [
    "predictions = np.argmax(model.predict(x_val), axis=-1) #model.predict(x_val) #np.argmax(model.predict(x), axis=-1)\n",
    "predictions = predictions.reshape(1,-1)[0]\n",
    "print(classification_report(y_val, predictions, target_names = labels))"
   ]
  },
  {
   "cell_type": "code",
   "execution_count": 48,
   "metadata": {
    "id": "PbG03a-7Yayv"
   },
   "outputs": [
    {
     "data": {
      "image/png": "[encoded data removed]",
      "text/plain": [
       "<Figure size 720x504 with 2 Axes>"
      ]
     },
     "metadata": {
      "needs_background": "light"
     },
     "output_type": "display_data"
    }
   ],
   "source": [
    "import seaborn as sn\n",
    "import pandas as pd\n",
    "import matplotlib.pyplot as plt\n",
    "cm1 = confusion_matrix(y_val, predictions)\n",
    "df_cm = pd.DataFrame(cm1, index = [i for i in labels],\n",
    "              columns = [i for i in labels])\n",
    "plt.figure(figsize = (10,7))\n",
    "sn.heatmap(df_cm, annot=True,cmap=\"RdPu\")\n",
    "plt.savefig('confusion_mrtx1.png',bbox_inches = 'tight')"
   ]
  },
  {
   "cell_type": "markdown",
   "metadata": {
    "id": "LhAssCnpc-zC"
   },
   "source": [
    "# Transfer Learning based modeling"
   ]
  },
  {
   "cell_type": "code",
   "execution_count": 49,
   "metadata": {
    "id": "KL_xNwxtbZGE"
   },
   "outputs": [
    {
     "name": "stdout",
     "output_type": "stream",
     "text": [
      "WARNING:tensorflow:`input_shape` is undefined or non-square, or `rows` is not in [96, 128, 160, 192, 224]. Weights for input shape (224, 224) will be loaded as the default.\n",
      "Downloading data from https://storage.googleapis.com/tensorflow/keras-applications/mobilenet_v2/mobilenet_v2_weights_tf_dim_ordering_tf_kernels_1.0_224_no_top.h5\n",
      "9412608/9406464 [==============================] - 0s 0us/step\n",
      "9420800/9406464 [==============================] - 0s 0us/step\n"
     ]
    }
   ],
   "source": [
    "base_model = tf.keras.applications.MobileNetV2(input_shape = (256, 256, 3), include_top = False, weights = \"imagenet\")"
   ]
  },
  {
   "cell_type": "code",
   "execution_count": 50,
   "metadata": {
    "id": "jMP5zEkjboya"
   },
   "outputs": [],
   "source": [
    "base_model.trainable = False\n",
    "model = tf.keras.Sequential([base_model,\n",
    "                                 tf.keras.layers.GlobalAveragePooling2D(),\n",
    "                                 tf.keras.layers.Dropout(0.2),\n",
    "                                 tf.keras.layers.Dense(10, activation=\"softmax\")                                     \n",
    "                                ])"
   ]
  },
  {
   "cell_type": "code",
   "execution_count": null,
   "metadata": {
    "id": "skCTJ9t8bzN5"
   },
   "outputs": [
    {
     "name": "stderr",
     "output_type": "stream",
     "text": [
      "C:\\ProgramData\\Anaconda3\\envs\\MAIBsem1\\lib\\site-packages\\keras\\optimizer_v2\\optimizer_v2.py:356: UserWarning: The `lr` argument is deprecated, use `learning_rate` instead.\n",
      "  \"The `lr` argument is deprecated, use `learning_rate` instead.\")\n"
     ]
    },
    {
     "name": "stdout",
     "output_type": "stream",
     "text": [
      "Epoch 1/500\n"
     ]
    },
    {
     "name": "stderr",
     "output_type": "stream",
     "text": [
      "C:\\ProgramData\\Anaconda3\\envs\\MAIBsem1\\lib\\site-packages\\keras\\backend.py:4907: UserWarning: \"`sparse_categorical_crossentropy` received `from_logits=True`, but the `output` argument was produced by a sigmoid or softmax activation and thus does not represent logits. Was this intended?\"\n",
      "  '\"`sparse_categorical_crossentropy` received `from_logits=True`, but '\n"
     ]
    },
    {
     "name": "stdout",
     "output_type": "stream",
     "text": [
      "19/19 [==============================] - 20s 981ms/step - loss: 2.6705 - accuracy: 0.0933 - val_loss: 2.5148 - val_accuracy: 0.0700\n",
      "Epoch 2/500\n",
      "19/19 [==============================] - 17s 902ms/step - loss: 2.4934 - accuracy: 0.1050 - val_loss: 2.3917 - val_accuracy: 0.0950\n",
      "Epoch 3/500\n",
      "19/19 [==============================] - 17s 898ms/step - loss: 2.3679 - accuracy: 0.1050 - val_loss: 2.3078 - val_accuracy: 0.1075\n",
      "Epoch 4/500\n",
      "19/19 [==============================] - 17s 902ms/step - loss: 2.2584 - accuracy: 0.1467 - val_loss: 2.2486 - val_accuracy: 0.1175\n",
      "Epoch 5/500\n",
      "19/19 [==============================] - 17s 898ms/step - loss: 2.2096 - accuracy: 0.1683 - val_loss: 2.1986 - val_accuracy: 0.1475\n",
      "Epoch 6/500\n",
      "19/19 [==============================] - 17s 898ms/step - loss: 2.1198 - accuracy: 0.2100 - val_loss: 2.1602 - val_accuracy: 0.1725\n",
      "Epoch 7/500\n",
      "19/19 [==============================] - 17s 904ms/step - loss: 2.0730 - accuracy: 0.2417 - val_loss: 2.1228 - val_accuracy: 0.1975\n",
      "Epoch 8/500\n",
      "19/19 [==============================] - 17s 908ms/step - loss: 1.9964 - accuracy: 0.2783 - val_loss: 2.0901 - val_accuracy: 0.2125\n",
      "Epoch 9/500\n",
      "19/19 [==============================] - 17s 917ms/step - loss: 1.9853 - accuracy: 0.2700 - val_loss: 2.0615 - val_accuracy: 0.2400\n",
      "Epoch 10/500\n",
      "19/19 [==============================] - 17s 941ms/step - loss: 1.9140 - accuracy: 0.3367 - val_loss: 2.0333 - val_accuracy: 0.2450\n",
      "Epoch 11/500\n",
      "19/19 [==============================] - 17s 922ms/step - loss: 1.8768 - accuracy: 0.3450 - val_loss: 2.0098 - val_accuracy: 0.2500\n",
      "Epoch 12/500\n",
      "19/19 [==============================] - 18s 957ms/step - loss: 1.8547 - accuracy: 0.3250 - val_loss: 1.9884 - val_accuracy: 0.2425\n",
      "Epoch 13/500\n",
      "19/19 [==============================] - 17s 909ms/step - loss: 1.8533 - accuracy: 0.3400 - val_loss: 1.9662 - val_accuracy: 0.2675\n",
      "Epoch 14/500\n",
      "19/19 [==============================] - 17s 895ms/step - loss: 1.8029 - accuracy: 0.3433 - val_loss: 1.9464 - val_accuracy: 0.2725\n",
      "Epoch 15/500\n",
      "19/19 [==============================] - 17s 920ms/step - loss: 1.7312 - accuracy: 0.3983 - val_loss: 1.9298 - val_accuracy: 0.2775\n",
      "Epoch 16/500\n",
      "19/19 [==============================] - 17s 894ms/step - loss: 1.7393 - accuracy: 0.3967 - val_loss: 1.9140 - val_accuracy: 0.2900\n",
      "Epoch 17/500\n",
      "19/19 [==============================] - 17s 898ms/step - loss: 1.7251 - accuracy: 0.3900 - val_loss: 1.9010 - val_accuracy: 0.2750\n",
      "Epoch 18/500\n",
      "19/19 [==============================] - 17s 890ms/step - loss: 1.7077 - accuracy: 0.4133 - val_loss: 1.8842 - val_accuracy: 0.3075\n",
      "Epoch 19/500\n",
      "19/19 [==============================] - 17s 902ms/step - loss: 1.6802 - accuracy: 0.4250 - val_loss: 1.8731 - val_accuracy: 0.3125\n",
      "Epoch 20/500\n",
      "19/19 [==============================] - 17s 912ms/step - loss: 1.6497 - accuracy: 0.4317 - val_loss: 1.8593 - val_accuracy: 0.3100\n",
      "Epoch 21/500\n",
      "19/19 [==============================] - 16s 880ms/step - loss: 1.6381 - accuracy: 0.4100 - val_loss: 1.8488 - val_accuracy: 0.3000\n",
      "Epoch 22/500\n",
      "19/19 [==============================] - 17s 889ms/step - loss: 1.5924 - accuracy: 0.4550 - val_loss: 1.8396 - val_accuracy: 0.3075\n",
      "Epoch 23/500\n",
      "19/19 [==============================] - 16s 886ms/step - loss: 1.5804 - accuracy: 0.4517 - val_loss: 1.8293 - val_accuracy: 0.3075\n",
      "Epoch 24/500\n",
      "19/19 [==============================] - 16s 887ms/step - loss: 1.5636 - accuracy: 0.4583 - val_loss: 1.8208 - val_accuracy: 0.3075\n",
      "Epoch 25/500\n",
      "19/19 [==============================] - 17s 898ms/step - loss: 1.5597 - accuracy: 0.4450 - val_loss: 1.8101 - val_accuracy: 0.3250\n",
      "Epoch 26/500\n",
      "19/19 [==============================] - 17s 923ms/step - loss: 1.5261 - accuracy: 0.4783 - val_loss: 1.8029 - val_accuracy: 0.3225\n",
      "Epoch 27/500\n",
      "19/19 [==============================] - 19s 1s/step - loss: 1.5050 - accuracy: 0.4733 - val_loss: 1.7949 - val_accuracy: 0.3175\n",
      "Epoch 28/500\n",
      "19/19 [==============================] - 17s 922ms/step - loss: 1.5192 - accuracy: 0.4717 - val_loss: 1.7875 - val_accuracy: 0.3225\n",
      "Epoch 29/500\n",
      "19/19 [==============================] - 18s 998ms/step - loss: 1.4927 - accuracy: 0.4733 - val_loss: 1.7807 - val_accuracy: 0.3250\n",
      "Epoch 30/500\n",
      "19/19 [==============================] - 18s 959ms/step - loss: 1.4745 - accuracy: 0.4933 - val_loss: 1.7724 - val_accuracy: 0.3250\n",
      "Epoch 31/500\n",
      "19/19 [==============================] - 19s 1s/step - loss: 1.4676 - accuracy: 0.4817 - val_loss: 1.7657 - val_accuracy: 0.3300\n",
      "Epoch 32/500\n",
      "19/19 [==============================] - 18s 951ms/step - loss: 1.4763 - accuracy: 0.4783 - val_loss: 1.7594 - val_accuracy: 0.3325\n",
      "Epoch 33/500\n",
      "19/19 [==============================] - 20s 1s/step - loss: 1.4490 - accuracy: 0.4917 - val_loss: 1.7548 - val_accuracy: 0.3325\n",
      "Epoch 34/500\n",
      "19/19 [==============================] - 19s 1s/step - loss: 1.4605 - accuracy: 0.4933 - val_loss: 1.7479 - val_accuracy: 0.3375\n",
      "Epoch 35/500\n",
      "19/19 [==============================] - 19s 1s/step - loss: 1.4434 - accuracy: 0.4850 - val_loss: 1.7446 - val_accuracy: 0.3375\n",
      "Epoch 36/500\n",
      "19/19 [==============================] - 19s 1s/step - loss: 1.4312 - accuracy: 0.5050 - val_loss: 1.7373 - val_accuracy: 0.3450\n",
      "Epoch 37/500\n",
      "19/19 [==============================] - 18s 970ms/step - loss: 1.4135 - accuracy: 0.5100 - val_loss: 1.7330 - val_accuracy: 0.3350\n",
      "Epoch 38/500\n",
      "19/19 [==============================] - 20s 1s/step - loss: 1.3958 - accuracy: 0.5233 - val_loss: 1.7272 - val_accuracy: 0.3375\n",
      "Epoch 39/500\n",
      "19/19 [==============================] - 17s 934ms/step - loss: 1.3926 - accuracy: 0.5033 - val_loss: 1.7229 - val_accuracy: 0.3425\n",
      "Epoch 40/500\n",
      "19/19 [==============================] - 18s 944ms/step - loss: 1.3719 - accuracy: 0.5200 - val_loss: 1.7178 - val_accuracy: 0.3475\n",
      "Epoch 41/500\n",
      "19/19 [==============================] - 17s 916ms/step - loss: 1.3501 - accuracy: 0.5300 - val_loss: 1.7134 - val_accuracy: 0.3450\n",
      "Epoch 42/500\n",
      "19/19 [==============================] - 17s 913ms/step - loss: 1.3763 - accuracy: 0.5100 - val_loss: 1.7098 - val_accuracy: 0.3500\n",
      "Epoch 43/500\n",
      "19/19 [==============================] - 17s 922ms/step - loss: 1.3648 - accuracy: 0.5383 - val_loss: 1.7026 - val_accuracy: 0.3550\n",
      "Epoch 44/500\n",
      "19/19 [==============================] - 17s 914ms/step - loss: 1.3548 - accuracy: 0.5133 - val_loss: 1.6986 - val_accuracy: 0.3650\n",
      "Epoch 45/500\n",
      "19/19 [==============================] - 17s 913ms/step - loss: 1.3428 - accuracy: 0.5317 - val_loss: 1.6957 - val_accuracy: 0.3575\n",
      "Epoch 46/500\n",
      "19/19 [==============================] - 17s 906ms/step - loss: 1.3114 - accuracy: 0.5383 - val_loss: 1.6906 - val_accuracy: 0.3650\n",
      "Epoch 47/500\n",
      "19/19 [==============================] - 17s 906ms/step - loss: 1.3259 - accuracy: 0.5450 - val_loss: 1.6887 - val_accuracy: 0.3550\n",
      "Epoch 48/500\n",
      "19/19 [==============================] - 17s 928ms/step - loss: 1.3154 - accuracy: 0.5467 - val_loss: 1.6828 - val_accuracy: 0.3600\n",
      "Epoch 49/500\n",
      "19/19 [==============================] - 17s 921ms/step - loss: 1.3039 - accuracy: 0.5300 - val_loss: 1.6784 - val_accuracy: 0.3650\n",
      "Epoch 50/500\n",
      "19/19 [==============================] - 17s 924ms/step - loss: 1.3080 - accuracy: 0.5467 - val_loss: 1.6754 - val_accuracy: 0.3675\n",
      "Epoch 51/500\n",
      "19/19 [==============================] - 17s 905ms/step - loss: 1.2870 - accuracy: 0.5750 - val_loss: 1.6704 - val_accuracy: 0.3675\n",
      "Epoch 52/500\n",
      "19/19 [==============================] - 17s 922ms/step - loss: 1.2906 - accuracy: 0.5517 - val_loss: 1.6687 - val_accuracy: 0.3650\n",
      "Epoch 53/500\n",
      "19/19 [==============================] - 17s 911ms/step - loss: 1.2686 - accuracy: 0.5683 - val_loss: 1.6638 - val_accuracy: 0.3750\n",
      "Epoch 54/500\n",
      "19/19 [==============================] - 17s 913ms/step - loss: 1.2701 - accuracy: 0.5600 - val_loss: 1.6593 - val_accuracy: 0.3750\n",
      "Epoch 55/500\n",
      "19/19 [==============================] - 17s 917ms/step - loss: 1.2617 - accuracy: 0.5300 - val_loss: 1.6568 - val_accuracy: 0.3750\n",
      "Epoch 56/500\n",
      "19/19 [==============================] - 17s 930ms/step - loss: 1.2645 - accuracy: 0.5633 - val_loss: 1.6547 - val_accuracy: 0.3725\n",
      "Epoch 57/500\n",
      "19/19 [==============================] - 17s 931ms/step - loss: 1.2516 - accuracy: 0.5767 - val_loss: 1.6503 - val_accuracy: 0.3825\n"
     ]
    },
    {
     "name": "stdout",
     "output_type": "stream",
     "text": [
      "Epoch 58/500\n",
      "19/19 [==============================] - 17s 924ms/step - loss: 1.2473 - accuracy: 0.5617 - val_loss: 1.6480 - val_accuracy: 0.3800\n",
      "Epoch 59/500\n",
      "19/19 [==============================] - 17s 920ms/step - loss: 1.2289 - accuracy: 0.5767 - val_loss: 1.6430 - val_accuracy: 0.3850\n",
      "Epoch 60/500\n",
      "19/19 [==============================] - 17s 919ms/step - loss: 1.2275 - accuracy: 0.5717 - val_loss: 1.6407 - val_accuracy: 0.3850\n",
      "Epoch 61/500\n",
      "19/19 [==============================] - 17s 919ms/step - loss: 1.2424 - accuracy: 0.5717 - val_loss: 1.6377 - val_accuracy: 0.3775\n",
      "Epoch 62/500\n",
      "19/19 [==============================] - 17s 926ms/step - loss: 1.2346 - accuracy: 0.5683 - val_loss: 1.6346 - val_accuracy: 0.3825\n",
      "Epoch 63/500\n",
      "19/19 [==============================] - 17s 933ms/step - loss: 1.2333 - accuracy: 0.5767 - val_loss: 1.6315 - val_accuracy: 0.3800\n",
      "Epoch 64/500\n",
      "19/19 [==============================] - 18s 981ms/step - loss: 1.2088 - accuracy: 0.6050 - val_loss: 1.6277 - val_accuracy: 0.3800\n",
      "Epoch 65/500\n",
      "19/19 [==============================] - 19s 990ms/step - loss: 1.2071 - accuracy: 0.5750 - val_loss: 1.6246 - val_accuracy: 0.3825\n",
      "Epoch 66/500\n",
      "19/19 [==============================] - 17s 924ms/step - loss: 1.1751 - accuracy: 0.6033 - val_loss: 1.6218 - val_accuracy: 0.3925\n",
      "Epoch 67/500\n",
      "19/19 [==============================] - 18s 965ms/step - loss: 1.2011 - accuracy: 0.5750 - val_loss: 1.6174 - val_accuracy: 0.3825\n",
      "Epoch 68/500\n",
      "19/19 [==============================] - 18s 990ms/step - loss: 1.2228 - accuracy: 0.5683 - val_loss: 1.6162 - val_accuracy: 0.3750\n",
      "Epoch 69/500\n",
      "19/19 [==============================] - 19s 1s/step - loss: 1.1788 - accuracy: 0.5917 - val_loss: 1.6153 - val_accuracy: 0.3800\n",
      "Epoch 70/500\n",
      "19/19 [==============================] - ETA: 0s - loss: 1.1646 - accuracy: 0.5867"
     ]
    }
   ],
   "source": [
    "base_learning_rate = 0.0001\n",
    "model.compile(optimizer=tf.keras.optimizers.Adam(lr=base_learning_rate),\n",
    "              loss=tf.keras.losses.SparseCategoricalCrossentropy(from_logits=True),\n",
    "              metrics=['accuracy'])\n",
    "\n",
    "history1 = model.fit(x_train,y_train,epochs = 500 , validation_data = (x_val, y_val))"
   ]
  },
  {
   "cell_type": "code",
   "execution_count": null,
   "metadata": {
    "id": "hvaP0P-cD-Hv"
   },
   "outputs": [],
   "source": [
    "model.summary()"
   ]
  },
  {
   "cell_type": "code",
   "execution_count": null,
   "metadata": {
    "id": "D30aRr_Lfc9M"
   },
   "outputs": [],
   "source": [
    "acc = history1.history['accuracy']\n",
    "val_acc = history1.history['val_accuracy']\n",
    "loss = history1.history['loss']\n",
    "val_loss = history1.history['val_loss']\n",
    "\n",
    "epochs_range = range(500)\n",
    "\n",
    "plt.figure(figsize=(25, 15))\n",
    "plt.subplot(2, 2, 1)\n",
    "plt.plot(epochs_range, acc, label='Training Accuracy')\n",
    "plt.plot(epochs_range, val_acc, label='Validation Accuracy')\n",
    "plt.legend(loc='lower right')\n",
    "plt.title('Training and Validation Accuracy')\n",
    "\n",
    "plt.subplot(2, 2, 2)\n",
    "plt.plot(epochs_range, loss, label='Training Loss')\n",
    "plt.plot(epochs_range, val_loss, label='Validation Loss')\n",
    "plt.legend(loc='upper right')\n",
    "plt.title('Training and Validation Loss')\n",
    "plt.show()"
   ]
  },
  {
   "cell_type": "code",
   "execution_count": null,
   "metadata": {
    "id": "S-opt3HYbhRP"
   },
   "outputs": [],
   "source": [
    "import pickle\n",
    "history = pickle.load(open('history_500_epoch_tr.pkl','rb'))\n",
    "acc = history['accuracy']\n",
    "val_acc = history['val_accuracy']\n",
    "loss = history['loss']\n",
    "val_loss = history['val_loss']\n",
    "\n",
    "epochs_range = range(500)\n",
    "fig, (ax1, ax2) = plt.subplots(1,2, figsize=(15,6))\n",
    "plt.rc('xtick', labelsize=10)    # fontsize of the tick labels\n",
    "plt.rc('ytick', labelsize=10)\n",
    "ax1.plot(epochs_range, acc, label='Training Accuracy', c = '#4CAF50', linewidth=4)\n",
    "ax1.plot(epochs_range, val_acc, label='Validation Accuracy', c='red', linewidth=4)\n",
    "ax1.legend()\n",
    "ax1.set_title('Training and Validation Accuracy',fontsize=18)\n",
    "ax1.set_ylabel('Accuracy',fontsize=18)\n",
    "ax1.set_xlabel('Epoch',fontsize=18)\n",
    "\n",
    "ax2.plot(epochs_range, loss, label='Training Loss',c = '#4CAF50', linewidth=4)\n",
    "ax2.plot(epochs_range, val_loss, label='Validation Loss', c='red', linewidth=4)\n",
    "ax2.legend()\n",
    "ax2.set_title('Training and Validation Loss',fontsize=18)\n",
    "ax2.set_ylabel('Loss',fontsize=18)\n",
    "ax2.set_xlabel('Epoch',fontsize=18)\n",
    "fig.tight_layout(pad=3.0)\n",
    "#plt.show()\n",
    "plt.savefig('tfr_plot1.png',bbox_inches = 'tight')\n",
    "plt.clf()"
   ]
  },
  {
   "cell_type": "code",
   "execution_count": null,
   "metadata": {
    "id": "uf1JjtBAfrSi"
   },
   "outputs": [],
   "source": [
    "predictions = model.predict_classes(x_val)\n",
    "predictions = predictions.reshape(1,-1)[0]\n",
    "print(classification_report(y_val, predictions, target_names = labels))"
   ]
  },
  {
   "cell_type": "code",
   "execution_count": null,
   "metadata": {
    "id": "-1UcfoXZcE7z"
   },
   "outputs": [],
   "source": [
    "import seaborn as sn\n",
    "import pandas as pd\n",
    "import matplotlib.pyplot as plt\n",
    "cm1 = confusion_matrix(y_val, predictions)\n",
    "df_cm = pd.DataFrame(cm1, index = [i for i in labels],\n",
    "              columns = [i for i in labels])\n",
    "plt.figure(figsize = (10,7))\n",
    "sn.heatmap(df_cm, annot=True,cmap=\"RdPu\")\n",
    "plt.savefig('confusion_mrtx2.png',bbox_inches = 'tight')"
   ]
  },
  {
   "cell_type": "code",
   "execution_count": null,
   "metadata": {
    "id": "RwzSfGdsshTN"
   },
   "outputs": [],
   "source": [
    "model.save_weights('500_epoch_transfer_lr.cpkt')\n",
    "pickle.dump(history1.history, open('history_500_epoch_tr.pkl','wb'))\n"
   ]
  },
  {
   "cell_type": "markdown",
   "metadata": {
    "id": "UkSwbJkkV5cp"
   },
   "source": [
    "## Multi-Model Training"
   ]
  },
  {
   "cell_type": "code",
   "execution_count": null,
   "metadata": {
    "colab": {
     "background_save": true
    },
    "id": "sRHHpGBdV8fQ"
   },
   "outputs": [],
   "source": [
    "sp_train = get_data('spectrogram/train')\n",
    "sp_val = get_data('spectrogram/test')\n",
    "\n",
    "wv_train = get_data('wavelets/train')\n",
    "wv_val = get_data('wavelets/test')"
   ]
  },
  {
   "cell_type": "code",
   "execution_count": null,
   "metadata": {
    "id": "zh0O-VhDWHiX"
   },
   "outputs": [],
   "source": [
    "x_sp_train = []\n",
    "y_sp_train = []\n",
    "x_sp_val = []\n",
    "y_sp_val = []\n",
    "\n",
    "for feature, label in sp_train:\n",
    "  x_sp_train.append(feature)\n",
    "  y_sp_train.append(label)\n",
    "\n",
    "for feature, label in sp_val:\n",
    "  x_sp_val.append(feature)\n",
    "  y_sp_val.append(label)\n",
    "\n",
    "# Normalize the data\n",
    "x_sp_train = np.array(x_sp_train) / 255\n",
    "x_sp_val = np.array(x_sp_val) / 255\n",
    "\n",
    "x_sp_train.reshape(-1, img_size, img_size, 1)\n",
    "y_sp_train = np.array(y_sp_train)\n",
    "\n",
    "x_sp_val.reshape(-1, img_size, img_size, 1)\n",
    "y_sp_val = np.array(y_sp_val)"
   ]
  },
  {
   "cell_type": "code",
   "execution_count": null,
   "metadata": {
    "id": "eWFkA_iJW7v_"
   },
   "outputs": [],
   "source": [
    "x_wv_train = []\n",
    "y_wv_train = []\n",
    "x_wv_val = []\n",
    "y_wv_val = []\n",
    "\n",
    "for feature, label in wv_train:\n",
    "  x_wv_train.append(feature)\n",
    "  y_wv_train.append(label)\n",
    "\n",
    "for feature, label in wv_val:\n",
    "  x_wv_val.append(feature)\n",
    "  y_wv_val.append(label)\n",
    "\n",
    "# Normalize the data\n",
    "x_wv_train = np.array(x_wv_train) / 255\n",
    "x_wv_val = np.array(x_wv_val) / 255\n",
    "\n",
    "x_wv_train.reshape(-1, img_size, img_size, 1)\n",
    "y_wv_train = np.array(y_wv_train)\n",
    "\n",
    "x_wv_val.reshape(-1, img_size, img_size, 1)\n",
    "y_wv_val = np.array(y_wv_val)"
   ]
  },
  {
   "cell_type": "code",
   "execution_count": 9,
   "metadata": {
    "id": "cQoJT8abXgqm"
   },
   "outputs": [
    {
     "ename": "NameError",
     "evalue": "name 'x_sp_train' is not defined",
     "output_type": "error",
     "traceback": [
      "\u001b[1;31m---------------------------------------------------------------------------\u001b[0m",
      "\u001b[1;31mNameError\u001b[0m                                 Traceback (most recent call last)",
      "\u001b[1;32m<ipython-input-9-fc308f1104cc>\u001b[0m in \u001b[0;36m<module>\u001b[1;34m\u001b[0m\n\u001b[0;32m     13\u001b[0m \u001b[1;33m\u001b[0m\u001b[0m\n\u001b[0;32m     14\u001b[0m \u001b[1;33m\u001b[0m\u001b[0m\n\u001b[1;32m---> 15\u001b[1;33m \u001b[0mdatagen_sp\u001b[0m\u001b[1;33m.\u001b[0m\u001b[0mfit\u001b[0m\u001b[1;33m(\u001b[0m\u001b[0mx_sp_train\u001b[0m\u001b[1;33m)\u001b[0m\u001b[1;33m\u001b[0m\u001b[1;33m\u001b[0m\u001b[0m\n\u001b[0m\u001b[0;32m     16\u001b[0m \u001b[1;33m\u001b[0m\u001b[0m\n\u001b[0;32m     17\u001b[0m datagen_wv = ImageDataGenerator(\n",
      "\u001b[1;31mNameError\u001b[0m: name 'x_sp_train' is not defined"
     ]
    }
   ],
   "source": [
    "datagen_sp = ImageDataGenerator(\n",
    "        featurewise_center=False,  # set input mean to 0 over the dataset\n",
    "        samplewise_center=False,  # set each sample mean to 0\n",
    "        featurewise_std_normalization=False,  # divide inputs by std of the dataset\n",
    "        samplewise_std_normalization=False,  # divide each input by its std\n",
    "        zca_whitening=False,  # apply ZCA whitening\n",
    "        #rotation_range = 30,  # randomly rotate images in the range (degrees, 0 to 180)\n",
    "        zoom_range = 0.2, # Randomly zoom image \n",
    "        width_shift_range=0.1,  # randomly shift images horizontally (fraction of total width)\n",
    "        height_shift_range=0.1,  # randomly shift images vertically (fraction of total height)\n",
    "        #horizontal_flip = True,  # randomly flip images\n",
    "        vertical_flip=False)  # randomly flip images\n",
    "\n",
    "\n",
    "datagen_sp.fit(x_sp_train)\n",
    "\n",
    "datagen_wv = ImageDataGenerator(\n",
    "        featurewise_center=False,  # set input mean to 0 over the dataset\n",
    "        samplewise_center=False,  # set each sample mean to 0\n",
    "        featurewise_std_normalization=False,  # divide inputs by std of the dataset\n",
    "        samplewise_std_normalization=False,  # divide each input by its std\n",
    "        zca_whitening=False,  # apply ZCA whitening\n",
    "        #rotation_range = 30,  # randomly rotate images in the range (degrees, 0 to 180)\n",
    "        zoom_range = 0.2, # Randomly zoom image \n",
    "        width_shift_range=0.1,  # randomly shift images horizontally (fraction of total width)\n",
    "        height_shift_range=0.1,  # randomly shift images vertically (fraction of total height)\n",
    "        #horizontal_flip = True,  # randomly flip images\n",
    "        vertical_flip=False)  # randomly flip images\n",
    "\n",
    "\n",
    "datagen_wv.fit(x_wv_train)"
   ]
  },
  {
   "cell_type": "code",
   "execution_count": null,
   "metadata": {
    "id": "DAk1TubMZjJV"
   },
   "outputs": [],
   "source": [
    "input_sp = keras.Input(shape=(256,256,3))\n",
    "input_wv = keras.Input(shape=(256,256,3))\n",
    "\n",
    "x = Conv2D(32,3,padding=\"same\", activation=\"relu\")(input_sp)\n",
    "x = MaxPool2D()(x)\n",
    "x = Conv2D(64, 3, padding=\"same\", activation=\"relu\")(x)\n",
    "x = MaxPool2D()(x)\n",
    "x = Dropout(0.4)(x)\n",
    "x = Flatten()(x)\n",
    "x = Dense(128,activation=\"relu\")(x)\n",
    "x = keras.Model(inputs=input_sp, outputs=x)\n",
    "\n",
    "y = Conv2D(32,3,padding=\"same\", activation=\"relu\")(input_wv)\n",
    "y = MaxPool2D()(y)\n",
    "y = Conv2D(64, 3, padding=\"same\", activation=\"relu\")(y)\n",
    "y = MaxPool2D()(y)\n",
    "y = Dropout(0.4)(y)\n",
    "y = Flatten()(y)\n",
    "y = Dense(128,activation=\"relu\")(y)\n",
    "y = keras.Model(inputs=input_wv, outputs=y)\n",
    "\n",
    "from tensorflow.keras.layers import concatenate\n",
    "combined = concatenate([x.output, y.output])\n",
    "\n",
    "z = Dense(32, activation=\"relu\")(combined)\n",
    "z = Dense(10, activation=\"softmax\")(z)\n",
    "\n",
    "model = keras.Model(inputs=[x.input, y.input], outputs=z)"
   ]
  },
  {
   "cell_type": "code",
   "execution_count": null,
   "metadata": {
    "id": "K25O827PcoKy"
   },
   "outputs": [],
   "source": [
    "model.summary()"
   ]
  },
  {
   "cell_type": "code",
   "execution_count": null,
   "metadata": {
    "id": "9LsfjV2ucprS"
   },
   "outputs": [],
   "source": [
    "opt = Adam(lr=0.0001)\n",
    "model.compile(optimizer = opt , loss = tf.keras.losses.SparseCategoricalCrossentropy(from_logits=True) , metrics = ['accuracy'])"
   ]
  },
  {
   "cell_type": "code",
   "execution_count": null,
   "metadata": {
    "id": "7cPYQFBDc1KR"
   },
   "outputs": [],
   "source": [
    "history2 = model.fit([x_sp_train,x_wv_train],y_sp_train,epochs = 500, validation_data = ([x_sp_val,x_wv_val], y_sp_val))\n",
    "import pickle\n",
    "model.save_weights('500_epoch_multi_lr.cpkt')\n",
    "pickle.dump(history2.history, open('history_500_epoch_multi.pkl','wb'))"
   ]
  },
  {
   "cell_type": "code",
   "execution_count": null,
   "metadata": {
    "id": "_5tiBlgtduBp"
   },
   "outputs": [],
   "source": [
    "acc = history2.history['accuracy']\n",
    "val_acc = history2.history['val_accuracy']\n",
    "loss = history2.history['loss']\n",
    "val_loss = history2.history['val_loss']\n",
    "\n",
    "epochs_range = range(500)\n",
    "\n",
    "plt.figure(figsize=(25, 15))\n",
    "plt.subplot(2, 2, 1)\n",
    "plt.plot(epochs_range, acc, label='Training Accuracy')\n",
    "plt.plot(epochs_range, val_acc, label='Validation Accuracy')\n",
    "plt.legend(loc='lower right')\n",
    "plt.title('Training and Validation Accuracy')\n",
    "\n",
    "plt.subplot(2, 2, 2)\n",
    "plt.plot(epochs_range, loss, label='Training Loss')\n",
    "plt.plot(epochs_range, val_loss, label='Validation Loss')\n",
    "plt.legend(loc='upper right')\n",
    "plt.title('Training and Validation Loss')\n",
    "plt.show()"
   ]
  },
  {
   "cell_type": "code",
   "execution_count": 10,
   "metadata": {
    "id": "YMQeqjWgeIlw"
   },
   "outputs": [
    {
     "ename": "FileNotFoundError",
     "evalue": "[Errno 2] No such file or directory: 'history_500_epoch_multi.pkl'",
     "output_type": "error",
     "traceback": [
      "\u001b[1;31m---------------------------------------------------------------------------\u001b[0m",
      "\u001b[1;31mFileNotFoundError\u001b[0m                         Traceback (most recent call last)",
      "\u001b[1;32m<ipython-input-10-d39e88427a41>\u001b[0m in \u001b[0;36m<module>\u001b[1;34m\u001b[0m\n\u001b[0;32m      1\u001b[0m \u001b[1;32mimport\u001b[0m \u001b[0mpickle\u001b[0m\u001b[1;33m\u001b[0m\u001b[1;33m\u001b[0m\u001b[0m\n\u001b[1;32m----> 2\u001b[1;33m \u001b[0mhistory\u001b[0m \u001b[1;33m=\u001b[0m \u001b[0mpickle\u001b[0m\u001b[1;33m.\u001b[0m\u001b[0mload\u001b[0m\u001b[1;33m(\u001b[0m\u001b[0mopen\u001b[0m\u001b[1;33m(\u001b[0m\u001b[1;34m'history_500_epoch_multi.pkl'\u001b[0m\u001b[1;33m,\u001b[0m\u001b[1;34m'rb'\u001b[0m\u001b[1;33m)\u001b[0m\u001b[1;33m)\u001b[0m\u001b[1;33m\u001b[0m\u001b[1;33m\u001b[0m\u001b[0m\n\u001b[0m\u001b[0;32m      3\u001b[0m \u001b[0macc\u001b[0m \u001b[1;33m=\u001b[0m \u001b[0mhistory\u001b[0m\u001b[1;33m[\u001b[0m\u001b[1;34m'accuracy'\u001b[0m\u001b[1;33m]\u001b[0m\u001b[1;33m\u001b[0m\u001b[1;33m\u001b[0m\u001b[0m\n\u001b[0;32m      4\u001b[0m \u001b[0mval_acc\u001b[0m \u001b[1;33m=\u001b[0m \u001b[0mhistory\u001b[0m\u001b[1;33m[\u001b[0m\u001b[1;34m'val_accuracy'\u001b[0m\u001b[1;33m]\u001b[0m\u001b[1;33m\u001b[0m\u001b[1;33m\u001b[0m\u001b[0m\n\u001b[0;32m      5\u001b[0m \u001b[0mloss\u001b[0m \u001b[1;33m=\u001b[0m \u001b[0mhistory\u001b[0m\u001b[1;33m[\u001b[0m\u001b[1;34m'loss'\u001b[0m\u001b[1;33m]\u001b[0m\u001b[1;33m\u001b[0m\u001b[1;33m\u001b[0m\u001b[0m\n",
      "\u001b[1;31mFileNotFoundError\u001b[0m: [Errno 2] No such file or directory: 'history_500_epoch_multi.pkl'"
     ]
    }
   ],
   "source": [
    "import pickle\n",
    "history = pickle.load(open('history_500_epoch_multi.pkl','rb'))\n",
    "acc = history['accuracy']\n",
    "val_acc = history['val_accuracy']\n",
    "loss = history['loss']\n",
    "val_loss = history['val_loss']\n",
    "\n",
    "epochs_range = range(500)\n",
    "fig, (ax1, ax2) = plt.subplots(1,2, figsize=(15,6))\n",
    "plt.rc('xtick', labelsize=10)    # fontsize of the tick labels\n",
    "plt.rc('ytick', labelsize=10)\n",
    "ax1.plot(epochs_range, acc, label='Training Accuracy', c = '#4CAF50', linewidth=4)\n",
    "ax1.plot(epochs_range, val_acc, label='Validation Accuracy', c='red', linewidth=4)\n",
    "ax1.legend()\n",
    "ax1.set_title('Training and Validation Accuracy',fontsize=18)\n",
    "ax1.set_ylabel('Accuracy',fontsize=18)\n",
    "ax1.set_xlabel('Epoch',fontsize=18)\n",
    "\n",
    "ax2.plot(epochs_range, loss, label='Training Loss',c = '#4CAF50', linewidth=4)\n",
    "ax2.plot(epochs_range, val_loss, label='Validation Loss', c='red', linewidth=4)\n",
    "ax2.legend()\n",
    "ax2.set_title('Training and Validation Loss',fontsize=18)\n",
    "ax2.set_ylabel('Loss',fontsize=18)\n",
    "ax2.set_xlabel('Epoch',fontsize=18)\n",
    "fig.tight_layout(pad=3.0)\n",
    "#plt.show()\n",
    "plt.savefig('multi_plot1.png',bbox_inches = 'tight')\n",
    "plt.clf()"
   ]
  },
  {
   "cell_type": "code",
   "execution_count": null,
   "metadata": {
    "id": "ZP-YbdgId-lQ"
   },
   "outputs": [],
   "source": [
    "predictions = model.predict([x_sp_val,x_wv_val])\n",
    "print(classification_report(y_wv_val, np.argmax(predictions, axis=1), target_names = labels))"
   ]
  },
  {
   "cell_type": "code",
   "execution_count": null,
   "metadata": {
    "id": "0VyAzWhIemG_"
   },
   "outputs": [],
   "source": [
    "import seaborn as sn\n",
    "import pandas as pd\n",
    "import matplotlib.pyplot as plt\n",
    "predictions = np.argmax(predictions, axis=1)\n",
    "cm1 = confusion_matrix(y_val, predictions)\n",
    "df_cm = pd.DataFrame(cm1, index = [i for i in labels],\n",
    "              columns = [i for i in labels])\n",
    "plt.figure(figsize = (10,7))\n",
    "sn.heatmap(df_cm, annot=True,cmap=\"RdPu\")\n",
    "plt.savefig('confusion_mrtx3.png',bbox_inches = 'tight')"
   ]
  },
  {
   "cell_type": "code",
   "execution_count": null,
   "metadata": {
    "colab": {
     "base_uri": "https://localhost:8080/",
     "height": 34
    },
    "id": "4uBCt0dd36HJ",
    "outputId": "0ed11f0d-fa2a-4c14-b5c1-123ebf734a64"
   },
   "outputs": [],
   "source": [
    "epochs_range = range(500)\n",
    "import matplotlib.pyplot as plt\n",
    "import pickle \n",
    "history = pickle.load(open('history_500_epoch_simple.pkl','rb'))\n",
    "acc = history['accuracy']\n",
    "val_acc = history['val_accuracy']\n",
    "loss = history['loss']\n",
    "val_loss = history['val_loss']\n",
    "\n",
    "history = pickle.load(open('history_500_epoch_tr.pkl','rb'))\n",
    "acc1 = history['accuracy']\n",
    "val_acc1 = history['val_accuracy']\n",
    "loss1 = history['loss']\n",
    "val_loss1 = history['val_loss']\n",
    "\n",
    "history = pickle.load(open('history_500_epoch_multi.pkl','rb'))\n",
    "acc2 = history['accuracy']\n",
    "val_acc2 = history['val_accuracy']\n",
    "loss2 = history['loss']\n",
    "val_loss2 = history['val_loss']\n",
    "\n",
    "fig, (ax1, ax2) = plt.subplots(1,2, figsize=(15,6))\n",
    "plt.rc('xtick', labelsize=10)    # fontsize of the tick labels\n",
    "plt.rc('ytick', labelsize=10)\n",
    "ax1.plot(epochs_range, acc, label='CNN Training Accuracy', c = '#4CAF50', linewidth=4)\n",
    "ax1.plot(epochs_range, val_acc, label='CNN Validation Accuracy', c='red', linewidth=4)\n",
    "ax1.plot(epochs_range, acc1, label='Transfer learning Training Accuracy', c = '#e72866', linewidth=4)\n",
    "ax1.plot(epochs_range, val_acc1, label='Transfer learning Validation Accuracy', c='#282ec7', linewidth=4)\n",
    "ax1.plot(epochs_range, acc2, label='Multi modal Training Accuracy', c = '#171c1c', linewidth=4)\n",
    "ax1.plot(epochs_range, val_acc2, label='Multi modal Validation Accuracy', c='#62176e', linewidth=4)\n",
    "\n",
    "ax1.legend()\n",
    "ax1.set_title('Training and Validation Accuracy',fontsize=18)\n",
    "ax1.set_ylabel('Accuracy',fontsize=18)\n",
    "ax1.set_xlabel('Epoch',fontsize=18)\n",
    "\n",
    "ax2.plot(epochs_range, loss, label='CNN Training Loss',c = '#4CAF50', linewidth=4)\n",
    "ax2.plot(epochs_range, val_loss, label='CNN Validation Loss', c='red', linewidth=4)\n",
    "ax2.plot(epochs_range, loss1, label='Transfer learning Training Loss',c = '#c72866', linewidth=4)\n",
    "ax2.plot(epochs_range, val_loss1, label='Transfer learning Validation Loss', c='#282ec7', linewidth=4)\n",
    "ax2.plot(epochs_range, loss2, label='Multi modal Training Loss',c = '#171c1c', linewidth=4)\n",
    "ax2.plot(epochs_range, val_loss2, label='Multi modal learning Validation Loss', c='#62176e', linewidth=4)\n",
    "\n",
    "ax2.legend()\n",
    "ax2.set_title('Training and Validation Loss',fontsize=18)\n",
    "ax2.set_ylabel('Loss',fontsize=18)\n",
    "ax2.set_xlabel('Epoch',fontsize=18)\n",
    "fig.tight_layout(pad=3.0)\n",
    "#plt.show()\n",
    "plt.savefig('all_1.png',bbox_inches = 'tight')\n",
    "plt.clf()"
   ]
  },
  {
   "cell_type": "code",
   "execution_count": null,
   "metadata": {
    "id": "mvqSlPNI4C5b"
   },
   "outputs": [],
   "source": []
  }
 ],
 "metadata": {
  "accelerator": "GPU",
  "colab": {
   "collapsed_sections": [],
   "name": "genre_classification.ipynb",
   "provenance": []
  },
  "kernelspec": {
   "display_name": "Python 3",
   "language": "python",
   "name": "python3"
  },
  "language_info": {
   "codemirror_mode": {
    "name": "ipython",
    "version": 3
   },
   "file_extension": ".py",
   "mimetype": "text/x-python",
   "name": "python",
   "nbconvert_exporter": "python",
   "pygments_lexer": "ipython3",
   "version": "3.6.13"
  }
 },
 "nbformat": 4,
 "nbformat_minor": 1
}
